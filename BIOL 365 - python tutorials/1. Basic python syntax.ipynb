{
 "cells": [
  {
   "cell_type": "markdown",
   "id": "b2c47598-f15c-4ac2-9397-f6f15fa0bbfa",
   "metadata": {},
   "source": [
    "# Tutorial 1: Basic python syntax\n",
    "\n",
    "This tutorial serves as a basic guide to python syntax, as well as some tips on navigating the JupyterLab console. Those familiar with the language can skip to Tutorial 2. \n",
    "\n",
    "**Note**: this notebook is pretty minimalistic and assumes basic knowledge of programming terminology (*e.g.*, string, function, loop). Those with zero coding experience may prefer work through a more detailed beginner's tutorial, such as https://www.learnpython.org/ \n",
    "\n",
    "**Note 2**: keyboard shortcuts and other console info is based off JupyterLab Desktop. I can't guarantee cross-compatibility with other platforms.\n",
    "\n",
    "---"
   ]
  },
  {
   "cell_type": "markdown",
   "id": "66121dfb-7b05-4fa1-b42d-acc2fe9e786f",
   "metadata": {},
   "source": [
    "## 1.1 Notebook formatting\n",
    "\n",
    "Notebooks will have markdown cells, code cells, and output cells."
   ]
  },
  {
   "cell_type": "markdown",
   "id": "17e09b5d-8225-4b96-aef8-d8333cd4bed4",
   "metadata": {},
   "source": [
    ".......................................................................................................... \\\n",
    "This is a markdown cell. Double click on it to edit. \\\n",
    "Formatting guide for your interest: https://www.markdownguide.org/cheat-sheet/ \\\n",
    "Press ctrl+enter to save changes. \\\n",
    ".........................................................................................................."
   ]
  },
  {
   "cell_type": "code",
   "execution_count": null,
   "id": "a5456771-b886-487c-a1f1-318e456c4dd9",
   "metadata": {},
   "outputs": [],
   "source": [
    "#this is a code cell (comments are proceeded by a '#')\n",
    "#click inside it to edit\n",
    "\n",
    "print('Hello World')\n",
    "\n",
    "#ctrl+enter to run the code, or shift+enter to run and move to the next block"
   ]
  },
  {
   "cell_type": "markdown",
   "id": "e8c4d4a0-e356-4f65-a077-3b0060722948",
   "metadata": {},
   "source": [
    "\\\n",
    "As you can see, running a code block produces an output cell below it. \n",
    "\n",
    "To make a new cell, click the '+' button on the top bar. The 'play' button also runs the current cell, while the 'fast forward' button runs the whole notebook from the beginning. You can also change a cell between markdown and code in the drop-down menu.\n",
    "\n",
    "---"
   ]
  },
  {
   "cell_type": "markdown",
   "id": "b9edd58b-a937-4ea7-8a76-48b4c26b2994",
   "metadata": {},
   "source": [
    "## 1.2 Types of data\n",
    "\n",
    "Here are some types of data you can assign to variables:"
   ]
  },
  {
   "cell_type": "code",
   "execution_count": null,
   "id": "8f8fd337-0c41-48e3-b86a-34991c84d1b6",
   "metadata": {},
   "outputs": [],
   "source": [
    "#variables are assigned using the '=' operator. \n",
    "#variables cannot start with a number or have any spaces.\n",
    "\n",
    "example_string = 'string' \n",
    "example_integer = 1\n",
    "example_float = 3.14159\n",
    "example_boolean = True\n",
    "\n",
    "#to output the value of a variable:\n",
    "example_float"
   ]
  },
  {
   "cell_type": "markdown",
   "id": "05dcbd2f-bc58-4390-a21e-ef84b9856a03",
   "metadata": {},
   "source": [
    "\\\n",
    "Another common data type is a **list**. It is a sequence of elements, surrounded by square brackets, each separated by a comma:"
   ]
  },
  {
   "cell_type": "code",
   "execution_count": null,
   "id": "c1330bb9-25d0-43c2-8b34-3acc242dfb89",
   "metadata": {},
   "outputs": [],
   "source": [
    "empty_list = []\n",
    "string_list = ['one', 'two', 'three']\n",
    "integer_list = [4, 5, 6]\n",
    "mixed_list = ['abc', 100, 3.65, False]\n",
    "\n",
    "#to retrieve a specific value from a list by index (position):\n",
    "mixed_list[2]"
   ]
  },
  {
   "cell_type": "markdown",
   "id": "82a8bcb5-5ca8-4d5e-94f5-4cac2ca7eafa",
   "metadata": {},
   "source": [
    "Note that python indexing **starts at 0**, meaning that the `[2]` in the above example actually refers to the *third* element in `mixed_list`, not the second."
   ]
  },
  {
   "cell_type": "markdown",
   "id": "7bd46ac6-736c-4490-aecf-e8d3a5a884fe",
   "metadata": {},
   "source": [
    "---"
   ]
  },
  {
   "cell_type": "markdown",
   "id": "13f4e282-9710-4eaa-af7d-3ddaf1071d75",
   "metadata": {},
   "source": [
    "## 1.3 Functions\n",
    "\n",
    "Basic math operators are pretty intuitive:"
   ]
  },
  {
   "cell_type": "code",
   "execution_count": null,
   "id": "72babdfe-38f3-45c1-8d70-c854597bcb33",
   "metadata": {},
   "outputs": [],
   "source": [
    "x = 1\n",
    "y = 2\n",
    "z = 3\n",
    "\n",
    "new_value = (x+z)/y*5\n",
    "\n",
    "new_value"
   ]
  },
  {
   "cell_type": "markdown",
   "id": "d66f5f52-3e7d-4552-b130-06823f702295",
   "metadata": {},
   "source": [
    "\\\n",
    "By default, a cell will only output the last command given. To show more than one output, we can call the `print` function:"
   ]
  },
  {
   "cell_type": "code",
   "execution_count": null,
   "id": "7d973885-3531-4207-a9c4-7f53d6cd206a",
   "metadata": {},
   "outputs": [],
   "source": [
    "#functions take the format function_name(variables)\n",
    "\n",
    "print(x)\n",
    "print(y)\n",
    "print(z)\n",
    "print(new_value)"
   ]
  },
  {
   "cell_type": "markdown",
   "id": "673868fe-3772-4add-80e7-ff0a860e2faa",
   "metadata": {},
   "source": [
    "\\\n",
    "We can also define our own functions.\n",
    "\n",
    "Look at the example syntax below. The function `my_function` is followed by the parameters `(a,b)` in **round brackets**. Multiple parameters are separated by a **comma**. A **colon** follows the brackets."
   ]
  },
  {
   "cell_type": "code",
   "execution_count": null,
   "id": "197a4414-22cd-45c1-a3ff-bf3235c528b3",
   "metadata": {},
   "outputs": [],
   "source": [
    "def my_function(a,b):\n",
    "    print(a+b)\n",
    "\n",
    "my_function('string1', 'string2')"
   ]
  },
  {
   "cell_type": "markdown",
   "id": "16888be9-1ab2-4321-b514-48f70dcc94d8",
   "metadata": {},
   "source": [
    "Note that python syntax is **indentation sensitive**. In the above example, everything nested within `my_function` (the `print` statements) is indented one level. \n",
    "Most of the time, the console is smart enough to automatically indent as you write, but make sure to pay attention when formatting your code."
   ]
  },
  {
   "cell_type": "markdown",
   "id": "1aa34e05-ffd5-4a84-9000-1f46749ca088",
   "metadata": {},
   "source": [
    "\\\n",
    "The `return` statement helps when you want to combine functions:"
   ]
  },
  {
   "cell_type": "code",
   "execution_count": null,
   "id": "b1d59bd1-eee2-4f18-aaf3-40d60fdae4ec",
   "metadata": {},
   "outputs": [],
   "source": [
    "def func_1(a,b):\n",
    "    a = a+5\n",
    "    b = b+5\n",
    "    return a+b #returns the value of the function without printing it\n",
    "\n",
    "def func_2(c):\n",
    "    return c*2\n",
    "\n",
    "#putting brackets/code blocks on separate lines can help you keep track of nested functions\n",
    "#notice there are 3 levels of indentation, one for each function\n",
    "\n",
    "print(\n",
    "    func_1(\n",
    "        1,(func_2(2))\n",
    "    )\n",
    ") "
   ]
  },
  {
   "cell_type": "markdown",
   "id": "19072f26-50ee-477e-a969-25239bcf87b1",
   "metadata": {},
   "source": [
    "\\\n",
    "Some functions (also known as **methods**) work on specific data types (also known as **objects**). They have slightly different syntax:\\\n",
    "`object.function(parameters)`"
   ]
  },
  {
   "cell_type": "code",
   "execution_count": null,
   "id": "3f584d57-be99-4487-ab60-aad409b92d4e",
   "metadata": {},
   "outputs": [],
   "source": [
    "#example of list methods\n",
    "\n",
    "names = ['Alice', 'Bob', 'Charlie']\n",
    "\n",
    "#returns the index (position) of the first element with the specified value\n",
    "location_Bob = names.index('Bob')\n",
    "\n",
    "print(location_Bob)"
   ]
  },
  {
   "cell_type": "code",
   "execution_count": null,
   "id": "277752dd-b149-4bb2-9491-2b92c31950f5",
   "metadata": {},
   "outputs": [],
   "source": [
    "#examples of string methods\n",
    "\n",
    "seq = 'atcggatccgt'\n",
    "\n",
    "#in this case, 'upper' is the function, and seq is the data:\n",
    "uppercase_seq = seq.upper()\n",
    "\n",
    "#another example, but this function requires an additional parameter specified in the brackets:\n",
    "count_a_seq = seq.count('a')\n",
    "\n",
    "#some functions require multiple parameters, separated by a comma:\n",
    "rna_seq = seq.replace('t','u')\n",
    "\n",
    "print(uppercase_seq)\n",
    "print(count_a_seq)\n",
    "print(rna_seq)"
   ]
  },
  {
   "cell_type": "markdown",
   "id": "6ce05a77-f351-4424-b76c-66ed69204dc8",
   "metadata": {},
   "source": [
    "Notice that in the above examples, none of the functions overwrite the original `seq` string. To do that, you would have to re-define the output to the `seq` variable, or define a new variable. This can be helpful when combining functions, since python works iteratively:"
   ]
  },
  {
   "cell_type": "code",
   "execution_count": null,
   "id": "48b4d47c-ee9e-4dc7-a060-3ab5e58267d6",
   "metadata": {},
   "outputs": [],
   "source": [
    "seq = 'atcggatccgt'\n",
    "\n",
    "def comb_function(s):\n",
    "    s = s.upper()\n",
    "    s = s.replace('T', 'U')\n",
    "    print(s)\n",
    "    \n",
    "comb_function(seq)"
   ]
  },
  {
   "cell_type": "markdown",
   "id": "35dbbd4e-d611-4ead-930d-f12171ea3bf7",
   "metadata": {},
   "source": [
    "FYI, `s = s.upper().replace('T','U')` works as well."
   ]
  },
  {
   "cell_type": "markdown",
   "id": "5978130f-3609-4325-bd9a-d9d7a91f1809",
   "metadata": {},
   "source": [
    "\\\n",
    "You don't need to worry about learning all the built-in functions and syntax. If an exercise or assignment question requires the use of specific functions that are not covered in these tutorials, I will provide a link to the documentation. However, you will need to figure out how to apply it yourself. "
   ]
  },
  {
   "cell_type": "markdown",
   "id": "7ad162fb-a82e-46b3-86af-07280fdf5fc1",
   "metadata": {},
   "source": [
    "---"
   ]
  },
  {
   "cell_type": "markdown",
   "id": "ad851e67-9609-41d3-8652-bc50711f6efd",
   "metadata": {},
   "source": [
    "### Exercise #1\n",
    "\n",
    "I was retrieving data on an organism of interest, and the taxonomy information was given as one long string:"
   ]
  },
  {
   "cell_type": "code",
   "execution_count": null,
   "id": "fe7dbdb5-a5a3-4425-bb65-02e7f4b7344c",
   "metadata": {},
   "outputs": [],
   "source": [
    "my_organism = 'd__Bacteria;p__Proteobacteria;c__Gammaproteobacteria;o__Xanthomonadales;f__Rhodanobacteraceae;g__Metallibacterium;s__Metallibacterium scheffleri' "
   ]
  },
  {
   "cell_type": "markdown",
   "id": "13b907ad-873a-461c-9d16-cbbfcb605686",
   "metadata": {},
   "source": [
    "In this case, individual taxonomy classifications (domain, phylum, class, order, family, genus, species) are preceeded by two underscores, and separated by a semicolon.\n",
    "\n",
    "As you can see, this data can be hard to work with on its own without doing some additional formatting."
   ]
  },
  {
   "cell_type": "markdown",
   "id": "dc602517-649a-4655-96b1-3aca3b164be3",
   "metadata": {},
   "source": [
    "**Your task:**\n",
    "\n",
    "Read the documentation for `str.replace()` and `str.split()` \\\n",
    "https://www.w3schools.com/python/ref_string_replace.asp \\\n",
    "https://www.w3schools.com/python/ref_string_split.asp \n",
    "\n",
    "Write a function that retrieves only the **species** name of a given organism, without any preceeding characters (i.e. when given `my_organism`, it would return `Metallibacterium scheffleri`)"
   ]
  },
  {
   "cell_type": "code",
   "execution_count": null,
   "id": "c5d4768b-71ea-4194-a4da-65b11f60132a",
   "metadata": {},
   "outputs": [],
   "source": [
    "### YOUR CODE HERE ###"
   ]
  },
  {
   "cell_type": "markdown",
   "id": "73266899-05cc-4811-a589-53afc041a947",
   "metadata": {},
   "source": [
    "---"
   ]
  },
  {
   "cell_type": "markdown",
   "id": "c39d9308-a49c-4cae-ab25-620224c37c9a",
   "metadata": {},
   "source": [
    "## 1.4 Conditionals"
   ]
  },
  {
   "cell_type": "markdown",
   "id": "60866183-6183-47b9-be25-df7f705e7847",
   "metadata": {},
   "source": [
    "Conditionals, aka 'if...else' statements, are implemented like so:"
   ]
  },
  {
   "cell_type": "code",
   "execution_count": null,
   "id": "85938bb1-ace7-412c-9fe7-8dc986ed3213",
   "metadata": {},
   "outputs": [],
   "source": [
    "a = 200\n",
    "b = 33\n",
    "\n",
    "if b > a: \n",
    "    print(\"b is greater than a\") #execute if condition is met, otherwise proceed to next line\n",
    "elif a == b: \n",
    "    print(\"a and b are equal\") #'else if', will execute this if another condition is met\n",
    "else: \n",
    "    print(\"a is greater than b\") #execute if no prior conditions were met"
   ]
  },
  {
   "cell_type": "markdown",
   "id": "041eed87-60a3-4e82-9d50-f67c6b58bceb",
   "metadata": {},
   "source": [
    "\\\n",
    "We can turn the above example into a function:"
   ]
  },
  {
   "cell_type": "code",
   "execution_count": null,
   "id": "abab3192-7873-44ae-81dc-2e66b2eb8915",
   "metadata": {},
   "outputs": [],
   "source": [
    "def compare_numbers(a,b):\n",
    "    if b > a: \n",
    "        print(\"b is greater than a\")\n",
    "    elif a == b: \n",
    "        print(\"a and b are equal\")\n",
    "    else: \n",
    "        print(\"a is greater than b\")\n",
    "\n",
    "compare_numbers(10,10)"
   ]
  },
  {
   "cell_type": "markdown",
   "id": "a65c8bc5-163c-42da-aa3f-7f8feb16c52b",
   "metadata": {},
   "source": [
    "Notice the change in indentation levels. This is one case where automatic indentation will not work - you need to make sure the conditional statements (`if`, `elif`, `else`) are all on the same level.\n",
    "\n",
    "---"
   ]
  },
  {
   "cell_type": "markdown",
   "id": "015ad5d4-9e12-4448-88f9-10a36232f58b",
   "metadata": {},
   "source": [
    "### Exercise #2:\n",
    "\n",
    "Read the documentation for string slicing and list appending: \\\n",
    "https://www.w3schools.com/python/python_strings_slicing.asp \\\n",
    "https://www.w3schools.com/python/ref_list_append.asp"
   ]
  },
  {
   "cell_type": "markdown",
   "id": "f021cbed-82d7-4d87-bd4c-4e842b196c38",
   "metadata": {},
   "source": [
    "Without using `str.replace()`, write a function that takes two arguments (organism name, taxonomy level), and returns the specified taxonomy information for that organism, without any preceeding characters. \n",
    "\n",
    "For example, if given `(my_organism, 'class')`, it would return `Gammaproteobacteria`."
   ]
  },
  {
   "cell_type": "code",
   "execution_count": null,
   "id": "21f564ee-a7a6-4bca-96ac-2f256ef9d224",
   "metadata": {},
   "outputs": [],
   "source": [
    "### YOUR CODE HERE ###"
   ]
  },
  {
   "cell_type": "markdown",
   "id": "c36c0987-86f2-472a-bc5d-005240ae5b8b",
   "metadata": {},
   "source": [
    "For an extra challenge, you can try to implement Exercise 2 *without* any `if` statements.\\\n",
    "Hint: recall the `list.index()` function."
   ]
  },
  {
   "cell_type": "markdown",
   "id": "2362db49-ea41-4afa-9b3d-9189df446dfa",
   "metadata": {},
   "source": [
    "---"
   ]
  },
  {
   "cell_type": "markdown",
   "id": "f7ff0d93-c7b3-4a13-ae04-51943f6fe1ff",
   "metadata": {},
   "source": [
    "## 1.6 Extras\n",
    "\n",
    "As this is not a programming course, **none of the following is required** info for the assignment. I have provided them for your interest only."
   ]
  },
  {
   "cell_type": "markdown",
   "id": "0df7000b-aae5-4a84-a113-76d5a399c009",
   "metadata": {},
   "source": [
    "### Loops\n",
    "\n",
    "An example of using a `for` loop to iterate over a list:\n",
    "\n",
    "```python\n",
    "fruits = [\"apple\", \"banana\", \"orange\"]\n",
    "\n",
    "for x in fruits:\n",
    "    x = x.capitalize()\n",
    "    print(x)\n",
    "```\n",
    "\n",
    "Returns `Apple Banana Orange`.\n",
    "\n",
    "It's good to know how they work but subsequent tutorials will go over built-in functions that accomplish the same thing. \n",
    "\n",
    "\n",
    "\n",
    "### List comprehension\n",
    "\n",
    "Python has a special type of syntax for iterating through lists that is more concise than using a `for` loop. It looks like this:\n",
    "```python\n",
    "numbers = [1,2,3,4,5]\n",
    "squares = [x**2 for x in numbers] \n",
    "```\n",
    "\n",
    "The above should return `[1,4,9,16,25]` for `squares`.\n",
    "\n",
    "This can be combined with conditional statements:\n",
    "\n",
    "```python\n",
    "squares_above_2 = [x**2 for x in numbers if x>2] \n",
    "```\n",
    "Returns `[1,2,9,16,25]` for `squares_above_2`.\n",
    "\n",
    "\n",
    "### Other data types\n",
    "\n",
    "**Sets** are a special type of list with only **unique** values. To turn a list into a set, use `set([list])`.\n",
    "\n",
    "**Dicts** (short for dictionary) is a set where each item contains a **paired** set of values. They act like 'lookup tables.' A dict representing the taxonomy info from this tutorial would look like this:\n",
    "\n",
    "```python\n",
    "my_organism = {\n",
    "  \"domain\": \"Bacteria\",\n",
    "  \"phylum\": \"Proteobacteria\",\n",
    "  \"class\": \"Gammaproteobacteria\",\n",
    "  \"order\": \"Xanthomonadales\",\n",
    "  \"family\": \"Rhodanobacteraceae\",\n",
    "  \"genus\": \"Metallibacterium\" ,\n",
    "  \"species\": \"Metallibacterium scheffleri\"\n",
    "}\n",
    "```\n",
    "\n",
    "The first part is known as the key and the second part is known as the value.\\\n",
    "`dict.keys()` returns a list of keys and `dict.values()` returns a list of values.\\\n",
    "`dict[key]` returns `dict[value]`.\n",
    "\n",
    "You can also construct a dict from two lists using `dict(zip([keys], [values]))`\n",
    "\n"
   ]
  }
 ],
 "metadata": {
  "kernelspec": {
   "display_name": "Python 3 (ipykernel)",
   "language": "python",
   "name": "python3"
  },
  "language_info": {
   "codemirror_mode": {
    "name": "ipython",
    "version": 3
   },
   "file_extension": ".py",
   "mimetype": "text/x-python",
   "name": "python",
   "nbconvert_exporter": "python",
   "pygments_lexer": "ipython3",
   "version": "3.12.2"
  }
 },
 "nbformat": 4,
 "nbformat_minor": 5
}
