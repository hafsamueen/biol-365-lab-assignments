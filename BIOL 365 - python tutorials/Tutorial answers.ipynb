{
 "cells": [
  {
   "cell_type": "markdown",
   "id": "a33f1cf1-b950-4c51-b0a9-56d6488aa99e",
   "metadata": {},
   "source": [
    "# Tutorial exercise answers\n",
    "\n",
    "Keep in mind there are often multiple solutions to a given exercise. Answers provided here are not necessarily the most efficient or concise. \n",
    "\n",
    "---"
   ]
  },
  {
   "cell_type": "markdown",
   "id": "20e73e9f-9f88-4e1c-ae01-9175fd3025a7",
   "metadata": {},
   "source": [
    "## 1. Basic python syntax"
   ]
  },
  {
   "cell_type": "markdown",
   "id": "5c0de748-74be-4fdc-8d06-ee66c41c0f74",
   "metadata": {},
   "source": [
    "### Exercise #1\n",
    "\n",
    "```python\n",
    "def retrieve_species(org):\n",
    "    species = org.replace('s__', '').split(';')[6]\n",
    "    return(species)\n",
    "```\n"
   ]
  },
  {
   "cell_type": "markdown",
   "id": "5c512259-23c7-4da5-b25c-239f5500fcac",
   "metadata": {},
   "source": [
    "### Exercise #2\n",
    "\n",
    "```python\n",
    "def return_taxlevel(org, tax):\n",
    "    tax_list = org.split(';')\n",
    "    if tax == 'domain':\n",
    "        return tax_list[0][3:]\n",
    "    elif tax == 'phylum':\n",
    "        return tax_list[1][3:]\n",
    "    elif tax == 'class':\n",
    "        return tax_list[2][3:]\n",
    "    elif tax == 'order':\n",
    "        return tax_list[3][3:]\n",
    "    elif tax == 'family':\n",
    "        return tax_list[4][3:]\n",
    "    elif tax == 'genus':\n",
    "        return tax_list[5][3:]\n",
    "    else:\n",
    "        return tax_list[6][3:]\n",
    "\n",
    "#version without if statements:\n",
    "levels=['domain','phylum','class','order','family','genus','species']\n",
    "def return_taxlevel(org,tax):\n",
    "    tax_list = org.split(';')\n",
    "    return tax_list[levels.index(tax)]\n",
    "```"
   ]
  },
  {
   "cell_type": "markdown",
   "id": "18307793-8329-4322-ba7a-ff67c99c49d0",
   "metadata": {},
   "source": [
    "---"
   ]
  },
  {
   "cell_type": "markdown",
   "id": "a1a4e800-7303-4114-a04b-ab6c5fcfe2b9",
   "metadata": {},
   "source": [
    "## 2. Intro to pandas"
   ]
  },
  {
   "cell_type": "markdown",
   "id": "a873616a-0790-44e8-b4ca-574b1d7b9897",
   "metadata": {},
   "source": [
    "### Exercise #1\n",
    "```python\n",
    "df.loc[((df['Type 1'] == 'Grass') | (df['Type 2'] == 'Grass')) & (df['HP'] > 50)]\n",
    "```"
   ]
  },
  {
   "cell_type": "markdown",
   "id": "b84c595c-2cc1-4ef6-9d0e-d4242f6a89df",
   "metadata": {},
   "source": [
    "### Exercise #2\n",
    "\n",
    "```python\n",
    "df2 = df.copy()\n",
    "df2['total_stats'] = df2.sum(axis=1)\n",
    "df2\n",
    "```"
   ]
  },
  {
   "cell_type": "markdown",
   "id": "093c8006-59f7-4490-9ee0-d776dc7b73dd",
   "metadata": {},
   "source": [
    "### Exercise #3\n",
    "\n",
    "```python\n",
    "df2 = df.copy()\n",
    "df2 = df2.groupby(['Generation','Type 1'])['#'].count().to_frame()\n",
    "df2\n",
    "```"
   ]
  },
  {
   "cell_type": "markdown",
   "id": "7fe54f76-f1ca-469e-8871-e2d1200b9533",
   "metadata": {},
   "source": [
    "### Exercise #4\n",
    "\n",
    "```python\n",
    "def scale_percent(row):\n",
    "    return row/row.sum()*100\n",
    "\n",
    "df_6 = df_5.copy()\n",
    "df_6 = df_6.apply(scale_percent, axis=1)\n",
    "df_6\n",
    "```"
   ]
  },
  {
   "cell_type": "markdown",
   "id": "bd49c44e-15a1-4af0-b5f2-da9447a7cab0",
   "metadata": {},
   "source": [
    "---"
   ]
  },
  {
   "cell_type": "markdown",
   "id": "b78c9b16-b3e0-44bc-80aa-491c45d7e068",
   "metadata": {},
   "source": [
    "## 3. Creating plots"
   ]
  },
  {
   "cell_type": "markdown",
   "id": "6d2b346a-37e6-4c71-81fa-da76f71f0ecb",
   "metadata": {},
   "source": [
    "### Exercise #1\n",
    "\n",
    "A)\n",
    "```python\n",
    "df3 = df2.copy()\n",
    "df3['Type'] = df3['Type 1']\n",
    "df3 = df3.join(color_map, on='Type')\n",
    "\n",
    "scatterplot = df2.plot(kind='scatter', x='Attack', y='Defense', color=df3['Color'])\n",
    "```\n",
    "\n",
    "B)\n",
    "```python\n",
    "scatterplot = df2.plot(\n",
    "    kind='scatter', \n",
    "    x='Attack', \n",
    "    y='Defense', \n",
    "    color=df3['Color'],\n",
    "    xlim=(0,200),\n",
    "    ylim=(0,250)\n",
    ")\n",
    "\n",
    "import matplotlib.lines\n",
    "\n",
    "custom_handles = [matplotlib.lines.Line2D(\n",
    "    [],[], marker='o', color=c, linestyle=\"none\") for c in color_map['Color']]\n",
    "custom_labels = color_map.index.to_list()\n",
    "\n",
    "legend = scatterplot.legend(\n",
    "    handles=custom_handles, \n",
    "    labels=custom_labels, \n",
    "    bbox_to_anchor=(1.02,1),\n",
    "    title='Type',\n",
    "    title_fontsize=(14),\n",
    "    frameon=True)\n",
    "\n",
    "plt.xticks(rotation=0) \n",
    "plt.xlabel('Attack', size=14, labelpad=5)\n",
    "\n",
    "plt.ylabel('Defense', size=14, labelpad=5)\n",
    "\n",
    "plt.title('Attack vs. Defense of Pokemon by Type', size=14, pad=5)\n",
    "\n",
    "plt.show()\n",
    "```"
   ]
  },
  {
   "cell_type": "markdown",
   "id": "5e788168-0f81-48fb-bf2f-4daa66042450",
   "metadata": {},
   "source": [
    "### Exercise #2\n",
    "\n",
    "A)\n",
    "```python\n",
    "df2.boxplot(by='Generation', column='HP', grid=False, widths=0.7)\n",
    "\n",
    "```\n",
    "B)\n",
    "```python\n",
    "g1 = df2.loc[df2['Generation']==1]['HP']\n",
    "g2 = df2.loc[df2['Generation']==2]['HP']\n",
    "g3 = df2.loc[df2['Generation']==3]['HP']\n",
    "g4 = df2.loc[df2['Generation']==4]['HP']\n",
    "g5 = df2.loc[df2['Generation']==5]['HP']\n",
    "g6 = df2.loc[df2['Generation']==6]['HP']\n",
    "\n",
    "stats.f_oneway(g1,g2,g3,g4,g5) #p>0.05, therefore not significant\n",
    "\n",
    "```"
   ]
  },
  {
   "cell_type": "markdown",
   "id": "eb343772-f9ad-43a2-84c5-1a36e50df977",
   "metadata": {},
   "source": [
    "---"
   ]
  }
 ],
 "metadata": {
  "kernelspec": {
   "display_name": "Python 3 (ipykernel)",
   "language": "python",
   "name": "python3"
  },
  "language_info": {
   "codemirror_mode": {
    "name": "ipython",
    "version": 3
   },
   "file_extension": ".py",
   "mimetype": "text/x-python",
   "name": "python",
   "nbconvert_exporter": "python",
   "pygments_lexer": "ipython3",
   "version": "3.12.2"
  }
 },
 "nbformat": 4,
 "nbformat_minor": 5
}
