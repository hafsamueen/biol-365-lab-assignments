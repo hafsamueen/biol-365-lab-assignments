{
 "cells": [
  {
   "cell_type": "markdown",
   "id": "b4fcbb02-5060-4845-a8e9-ab5784b070dc",
   "metadata": {},
   "source": [
    "# Tutorial 3: Creating plots in matplotlib\n",
    "\n",
    "This tutorial introduces the matplotlib library and demonstrates how to create bar plots, scatter plots, and box plots.\\\n",
    "It will also cover some basic statistical analysis tools.\n",
    "\n",
    "---"
   ]
  },
  {
   "cell_type": "markdown",
   "id": "48490623-a761-4064-8484-32feb9873ad9",
   "metadata": {},
   "source": [
    "## 3.1 Importing data\n",
    "\n",
    "Start by importing the libraries:"
   ]
  },
  {
   "cell_type": "code",
   "execution_count": null,
   "id": "159590bc-7a44-4c9b-90f7-1e79f9c23b67",
   "metadata": {
    "tags": []
   },
   "outputs": [],
   "source": [
    "import pandas as pd\n",
    "import matplotlib.pyplot as plt"
   ]
  },
  {
   "cell_type": "markdown",
   "id": "2b0c9459-f9e3-4a59-9ef6-7d62feb9ade3",
   "metadata": {},
   "source": [
    "\\\n",
    "Then import the data you exported from Tutorial 3:"
   ]
  },
  {
   "cell_type": "code",
   "execution_count": null,
   "id": "287af573-1b5f-4e49-8514-d55428c410ce",
   "metadata": {
    "tags": []
   },
   "outputs": [],
   "source": [
    "df = pd.read_table('YOUR_NAME_pokemon_data.csv', sep=',', index_col=0) #index_col=0 sets the first column as the index"
   ]
  },
  {
   "cell_type": "markdown",
   "id": "bce19b7b-b701-465d-8c0d-c0eda174bc33",
   "metadata": {},
   "source": [
    "---"
   ]
  },
  {
   "cell_type": "markdown",
   "id": "698795f8-7f78-4c82-a250-a7c430d037ea",
   "metadata": {},
   "source": [
    "## 3.2 Global parameters"
   ]
  },
  {
   "cell_type": "markdown",
   "id": "06592429-27cf-4c69-87f5-6d5c29795ee8",
   "metadata": {},
   "source": [
    "Plots can be individually configured, but we can also set **global parameters** at the start of the notebook. Once these are set they will apply to all plots unless otherwise specified. A few examples:"
   ]
  },
  {
   "cell_type": "code",
   "execution_count": null,
   "id": "bad33b50-3d1a-4d70-aff9-f33e9c1110a0",
   "metadata": {
    "tags": []
   },
   "outputs": [],
   "source": [
    "plt.style.use('seaborn-v0_8-whitegrid') #applies a preset style \n",
    "plt.rcParams['figure.figsize'] = [8,6] #figure size\n",
    "plt.rcParams['font.size'] = 12 #global font size\n",
    "plt.rcParams['figure.dpi'] = 75"
   ]
  },
  {
   "cell_type": "markdown",
   "id": "dd4b62ce-2a9b-4a99-b839-7a6f2f61a185",
   "metadata": {},
   "source": [
    "Many options for style presets exist, which can be viewed with `plt.style.available`. There is even one called `ggplot` if you want to pretend that you made these figures in R..."
   ]
  },
  {
   "cell_type": "markdown",
   "id": "fe4c56ae-3bed-4779-bfb8-41069833155b",
   "metadata": {},
   "source": [
    "---"
   ]
  },
  {
   "cell_type": "markdown",
   "id": "fa917d53-3ccb-4d9a-9855-73035f2c08b7",
   "metadata": {},
   "source": [
    "## 3.3 Bar plots"
   ]
  },
  {
   "cell_type": "markdown",
   "id": "22de493b-dddb-40fb-ac01-84cd7661d464",
   "metadata": {},
   "source": [
    "Try running the following:"
   ]
  },
  {
   "cell_type": "code",
   "execution_count": null,
   "id": "e3a86aa8-6b8f-4e1f-9ee9-aefb514a5ab6",
   "metadata": {
    "tags": []
   },
   "outputs": [],
   "source": [
    "df.plot(kind='bar')"
   ]
  },
  {
   "cell_type": "markdown",
   "id": "7ee7d004-8c35-4474-8788-0be63c5fdc0a",
   "metadata": {},
   "source": [
    "As you can see, the function generates a **grouped** bar plot by default. This is fine for most data, but recall that we scaled all of our Type values based on a **percentage** of the total counts in each Generation. In this case, it would be more appropriate to use a **stacked** bar plot:"
   ]
  },
  {
   "cell_type": "code",
   "execution_count": null,
   "id": "c9eb60bc-fcd7-4710-97d6-320ad52b36cc",
   "metadata": {
    "tags": []
   },
   "outputs": [],
   "source": [
    "df.plot(kind='bar', stacked=True)"
   ]
  },
  {
   "cell_type": "markdown",
   "id": "f87d426c-dca4-494f-91fc-9012d59b6e66",
   "metadata": {},
   "source": [
    "Now we can see the scaled values as a proportion of the total (note that the Y axis is now scaled from 0 to 100). \n",
    "\n",
    "Next, we want to change the color scheme, as the default colors are not very informative. I provided a custom color map as a separate file, which can be imported as a dataframe:"
   ]
  },
  {
   "cell_type": "code",
   "execution_count": null,
   "id": "7087a3de-e3fc-44ad-b5c6-769741b0ce71",
   "metadata": {
    "tags": []
   },
   "outputs": [],
   "source": [
    "color_map = pd.read_table('pokemon_color_map.csv', sep=',', index_col=0)\n",
    "color_map = color_map.sort_values(by='Type') #sorting alphabetically to match up with our data\n",
    "\n",
    "color_map.head(5)"
   ]
  },
  {
   "cell_type": "markdown",
   "id": "a4c8ebed-e651-4b44-a52e-c16e0c5a1494",
   "metadata": {},
   "source": [
    "The `['Color']` column contains hex-codes that correspond to specific colors. We can then pass the column in `.plot()` as an additional parameter:"
   ]
  },
  {
   "cell_type": "code",
   "execution_count": null,
   "id": "8a24903d-00cd-4178-977f-fff2e212b702",
   "metadata": {
    "tags": []
   },
   "outputs": [],
   "source": [
    "df.plot(kind='bar', stacked=True, color=color_map['Color'])"
   ]
  },
  {
   "cell_type": "markdown",
   "id": "ee29bbbf-3323-4e27-8ce9-8a9375678f4b",
   "metadata": {},
   "source": [
    "Now that the colors are applied, lets format the legend. In the above plot, the legend lists the Types in reverse order from how they are actually shown in the bars (top-to-bottom vs. bottom-to-top). \n",
    "\n",
    "The `.legend()` function is separate from the `.plot()` function, so we'll need to define a new object (`barplot`) for our plotting data. "
   ]
  },
  {
   "cell_type": "code",
   "execution_count": null,
   "id": "77eee763-80b6-4bd7-b653-dd94b797791f",
   "metadata": {
    "tags": []
   },
   "outputs": [],
   "source": [
    "barplot = df.plot(kind='bar', stacked=True, color=color_map['Color'])\n",
    "\n",
    "handles, labels = barplot.get_legend_handles_labels() #handles are the colored boxes, labels are the text\n",
    "\n",
    "legend = barplot.legend(\n",
    "    handles=reversed(handles),\n",
    "    labels=reversed(labels), \n",
    "    bbox_to_anchor=(1, 1), \n",
    "    title='Type',\n",
    "    frameon=True\n",
    ")\n",
    "\n",
    "#as an aside, whenever a function has a lot of parameters its good practice to put them on separate lines"
   ]
  },
  {
   "cell_type": "markdown",
   "id": "6e321702-926d-4cf7-9ea1-c0ba84bb62ff",
   "metadata": {},
   "source": [
    "The `.get_legend_handles_labels()` function retrieves the legend data from `barplot`, and the `.legend()` function is where the legend formatting parameters are specified. \n",
    "\n",
    "The first two parameters are always the legend handles and labels. Using `reverse()` will reverse their order.\\\n",
    "The `bbox_to_anchor` sets the x and y coordinates of the legend relative to the plot. `(0,0)` would be bottom left and `(1,1)` is top right. \\\n",
    "We also provided some extra parameters such as `title` and `frameon` here to give the legend a title and draw a box around it.\n",
    "\n",
    "Other legend formatting options exist: (https://matplotlib.org/stable/api/_as_gen/matplotlib.pyplot.legend.html) \\\n",
    "Feel free to try out some others, such as `title_fontsize`, `labelspacing`, and `borderpad`."
   ]
  },
  {
   "cell_type": "markdown",
   "id": "e64f3b23-8c68-43bb-a4c7-82d917cf8276",
   "metadata": {},
   "source": [
    "\\\n",
    "Finally, lets add some additional axis labels and titles. "
   ]
  },
  {
   "cell_type": "code",
   "execution_count": null,
   "id": "df02f755-67d1-49ae-b7b9-15dfc250129a",
   "metadata": {
    "tags": []
   },
   "outputs": [],
   "source": [
    "### PLOT ###\n",
    "barplot = df.plot(\n",
    "    kind='bar', \n",
    "    stacked=True, \n",
    "    width=(0.7),    #sets the width of bars \n",
    "    ylim=(0,100),   #sets the y-axis limits\n",
    "    color=color_map['Color']\n",
    ")\n",
    "\n",
    "## LEGEND ##\n",
    "handles, labels = barplot.get_legend_handles_labels()\n",
    "legend = barplot.legend(\n",
    "    handles=reversed(handles),\n",
    "    labels=reversed(labels), \n",
    "    title='Type', \n",
    "    title_fontsize=(14),\n",
    "    bbox_to_anchor=(1.02, 1), \n",
    "    frameon=True\n",
    ")\n",
    "\n",
    "## X AXIS LABELS ##\n",
    "plt.xticks(rotation=0) \n",
    "plt.xlabel('Generation', size=14, labelpad=5)\n",
    "\n",
    "## Y AXIS LABELS ##\n",
    "plt.yticks(ticks=[0,10,20,30,40,50,60,70,80,90,100])\n",
    "plt.ylabel('% of Total', size=14, labelpad=5)\n",
    "\n",
    "## TITLE ##\n",
    "plt.title('Pokemon Types by Generation', size=14, pad=15)\n",
    "\n",
    "plt.show() #this function ensures that only the plot is displayed as the output"
   ]
  },
  {
   "cell_type": "markdown",
   "id": "0e0d247b-edb3-4646-af22-7ac8573f6392",
   "metadata": {},
   "source": [
    "The finished bar plot enables easy visualization of numerical differences across categorical variable(s). For example, we can see that Gen 1 has a higher proportion of Poison and Water type pokemon compared to Gen 6, which has more Fairy and Ghost types. "
   ]
  },
  {
   "cell_type": "markdown",
   "id": "b76d7177-75c3-4684-b5df-53a4528a7c76",
   "metadata": {},
   "source": [
    "---"
   ]
  },
  {
   "cell_type": "markdown",
   "id": "777cbade-6a06-4dec-9499-03dbc47852f5",
   "metadata": {},
   "source": [
    "## 3.4 Scatter plots"
   ]
  },
  {
   "cell_type": "markdown",
   "id": "d41cc5f0-0e30-44d4-8d6a-d8086cd9449d",
   "metadata": {},
   "source": [
    "Let's return to the original pokemon data set:"
   ]
  },
  {
   "cell_type": "code",
   "execution_count": null,
   "id": "0edfa3b8-3184-4043-92e5-10f1eaad3cf7",
   "metadata": {},
   "outputs": [],
   "source": [
    "df2 = pd.read_table('pokemon_data.csv', sep=',', index_col=0)"
   ]
  },
  {
   "cell_type": "markdown",
   "id": "00d833d1-d1f5-4626-9bb0-0d9c5e8491a7",
   "metadata": {},
   "source": [
    "\\\n",
    "A scatter plot can be created by setting any two numerical columns as the `x` and `y` values:"
   ]
  },
  {
   "cell_type": "code",
   "execution_count": null,
   "id": "a081256e-3222-42be-beb5-b5ab602271c6",
   "metadata": {},
   "outputs": [],
   "source": [
    "df2.plot(kind='scatter', x='Attack', y='Defense')"
   ]
  },
  {
   "cell_type": "markdown",
   "id": "d7078a92-e258-481e-8f53-3d2d078c6d09",
   "metadata": {},
   "source": [
    "---"
   ]
  },
  {
   "cell_type": "markdown",
   "id": "9ddb0e60-bc3a-4b99-b95a-4ac0773ea161",
   "metadata": {},
   "source": [
    "### Exercise #1\n",
    "\n",
    "Individual points on a scatter plot can be colored by passing a list or series of colors into the `colors=` parameter.\n",
    "\n",
    "A) Using the `color_map` dataframe, modify the scatterplot above to color each point by the `Type 1` column. \\\n",
    "Hint: the `join()` function can be used here.\n",
    "\n",
    "B) Once you have applied the color map, format the plot axes and labels using the barplot example as a guide.\n",
    "\n"
   ]
  },
  {
   "cell_type": "code",
   "execution_count": null,
   "id": "7f3109f0-e521-4d38-8d74-c89b2c041406",
   "metadata": {},
   "outputs": [],
   "source": [
    "### YOUR CODE HERE ###"
   ]
  },
  {
   "cell_type": "markdown",
   "id": "7ca13a7c-8022-441b-a3d6-e5bb55eca4ee",
   "metadata": {},
   "source": [
    "Optionally, you can give the plot a legend. Retrieving the handles and labels is beyond the scope of this tutorial, so you can paste the following code for that part:\n",
    "\n",
    "```python\n",
    "import matplotlib.lines\n",
    "\n",
    "custom_handles = [matplotlib.lines.Line2D(\n",
    "    [],[], marker='o', color=c, linestyle=\"none\") for c in color_map['Color']]\n",
    "custom_labels = color_map.index.to_list()\n",
    "\n",
    "```\n"
   ]
  },
  {
   "cell_type": "markdown",
   "id": "b49aa423-007a-49a6-b2d3-58500b2d371c",
   "metadata": {},
   "source": [
    "---"
   ]
  },
  {
   "cell_type": "markdown",
   "id": "81799cd6-8305-45a8-b171-008ed1e519d8",
   "metadata": {},
   "source": [
    "## 3.5 Linear regression"
   ]
  },
  {
   "cell_type": "markdown",
   "id": "be622ea5-a39f-410a-b63d-85bd8fcfdbd5",
   "metadata": {},
   "source": [
    "Statistical analyses can be used to help our interpretation of scatter plots. \n",
    "\n",
    "We will use the **SciPy.stats** library to evaluate linear regression and correlation coefficients:"
   ]
  },
  {
   "cell_type": "code",
   "execution_count": null,
   "id": "d6afbf39-4808-4406-96f0-ea7a8be8b033",
   "metadata": {},
   "outputs": [],
   "source": [
    "from scipy import stats"
   ]
  },
  {
   "cell_type": "markdown",
   "id": "1952d931-aa94-4135-992f-4dbf3905f2b8",
   "metadata": {},
   "source": [
    "\\\n",
    "The `stats.linregress()` function returns an object that stores multiple values:"
   ]
  },
  {
   "cell_type": "code",
   "execution_count": null,
   "id": "b3aa0ba2-ca32-4faf-9e8e-a15d45d24467",
   "metadata": {},
   "outputs": [],
   "source": [
    "stats.linregress(df2['Attack'], df2['Defense'])"
   ]
  },
  {
   "cell_type": "markdown",
   "id": "11c18d7d-6b28-41ac-bf6f-931ca2ad360d",
   "metadata": {},
   "source": [
    "\\\n",
    "Individual values can be accessed with `.slope`, `.intercept`, etc. \\\n",
    "Based on the p-value, is the correlation between pokemon Attack and Defense significant?"
   ]
  },
  {
   "cell_type": "code",
   "execution_count": null,
   "id": "97a5b83a-8db7-4674-9671-75c25ed98b32",
   "metadata": {},
   "outputs": [],
   "source": [
    "stats.linregress(df2['Attack'], df2['Defense']).pvalue"
   ]
  },
  {
   "cell_type": "markdown",
   "id": "adbdadb1-0046-47ab-aa54-fd7cf76991a4",
   "metadata": {},
   "source": [
    "\\\n",
    "We can also plot the line of best fit based on the slope and intercept values. Some additional code is written to facilitate plotting two sets of data on the same plot area:"
   ]
  },
  {
   "cell_type": "code",
   "execution_count": null,
   "id": "5d7bb6d3-f256-4abc-b9d5-8367bc02eb79",
   "metadata": {
    "tags": []
   },
   "outputs": [],
   "source": [
    "#storing the regression object\n",
    "reg = stats.linregress(df2['Attack'], df2['Defense'])\n",
    "\n",
    "#getting line of best fit\n",
    "df4 = df2.copy()\n",
    "df4['x_vals'] = df4['Attack']\n",
    "df4['y_vals'] = reg.slope*df2['Attack'] + reg.intercept\n",
    "\n",
    "#defining subplots \n",
    "fig, ax = plt.subplots()\n",
    "\n",
    "df4.plot(kind='scatter', x='Attack', y='Defense', label='data', ax=ax)\n",
    "df4.plot(kind='line', x='x_vals', y='y_vals', color='r', label='fitted line', ax=ax)\n",
    "\n",
    "plt.legend(bbox_to_anchor=(1.25, 1))\n",
    "plt.show()"
   ]
  },
  {
   "cell_type": "markdown",
   "id": "8887c8c3-f3ca-415d-bbdb-66782bf5de9d",
   "metadata": {},
   "source": [
    "The `ax` (sometimes written as `axs` or `axes` when there is more than one) parameters specify the location to plot data within the figure (or `fig`). \\\n",
    "In this case, we want the scatter and line plots on the same plot area, so we set `ax=ax` for both of them. "
   ]
  },
  {
   "cell_type": "markdown",
   "id": "feaf6a3b-6c7f-473d-8e97-78b7fa1eb282",
   "metadata": {},
   "source": [
    "---"
   ]
  },
  {
   "cell_type": "markdown",
   "id": "27161501-7d7e-41b8-853b-03a6c329afa9",
   "metadata": {},
   "source": [
    "## 3.6 Box plots"
   ]
  },
  {
   "cell_type": "markdown",
   "id": "17d84be0-d1ad-4d34-b75f-787d8759b6b9",
   "metadata": {},
   "source": [
    "The `df.plot(kind='box')` is not implemented very well, so we're using `df.boxplot()` instead.\\\n",
    "The `boxplot()` function takes similar parameters as `groupby()`, where `by` specifies the categorical data to aggregate on, and `column` specifies the numerical data to plot:"
   ]
  },
  {
   "cell_type": "code",
   "execution_count": null,
   "id": "4ab2b8b1-bca5-40e7-bad3-b54c0f464fa6",
   "metadata": {},
   "outputs": [],
   "source": [
    "df2.boxplot(by='Legendary', column='Attack')"
   ]
  },
  {
   "cell_type": "markdown",
   "id": "2409c11e-2911-4ed8-afe5-2c24afae40eb",
   "metadata": {},
   "source": [
    "Leaving out the `columns` parameter will automatically plot all numerical columns:"
   ]
  },
  {
   "cell_type": "code",
   "execution_count": null,
   "id": "786149ad-ff42-478b-883d-8bbb7a5f1834",
   "metadata": {
    "tags": []
   },
   "outputs": [],
   "source": [
    "df5=df2.drop('Generation', axis=1)\n",
    "\n",
    "df5.boxplot(by='Legendary', layout=(2,3), grid=False, widths=0.7)\n",
    "\n",
    "plt.show()"
   ]
  },
  {
   "cell_type": "markdown",
   "id": "e5d2a1c8-f880-4548-baaf-5d374a25a4c8",
   "metadata": {},
   "source": [
    "---"
   ]
  },
  {
   "cell_type": "markdown",
   "id": "aa8c5177-ca2f-4a3f-970d-7baed5fe76fd",
   "metadata": {},
   "source": [
    "## 3.7 Comparing groups\n",
    "\n",
    "Let's do a simple **t-test** with just the Attack values of legendary and non-legendary pokemon:"
   ]
  },
  {
   "cell_type": "code",
   "execution_count": null,
   "id": "4a56b58a-7932-45f3-a650-d5d07a107e1c",
   "metadata": {},
   "outputs": [],
   "source": [
    "leg = df5.loc[df5['Legendary']==True]['Attack'] #attack values of legendary pokemon\n",
    "not_leg = df5.loc[df5['Legendary']==False]['Attack'] #attack values of non-legendary pokemon\n",
    "\n",
    "stats.ttest_ind(leg,not_leg) #ttest_ind() is for two independent samples"
   ]
  },
  {
   "cell_type": "markdown",
   "id": "fac33942-be3b-4b27-b71e-d357390d0cc3",
   "metadata": {},
   "source": [
    "A p-value of $7.83 \\times 10^{-24}$ indicates a significant difference between the two groups. "
   ]
  },
  {
   "cell_type": "markdown",
   "id": "3a328a80-501e-4682-af7a-b3b861b88078",
   "metadata": {},
   "source": [
    "---"
   ]
  },
  {
   "cell_type": "markdown",
   "id": "0a259c9c-563a-41da-a464-e6a1e5f55057",
   "metadata": {},
   "source": [
    "### Exercise #2\n",
    "\n",
    "A) Make a boxplot comparing HP values for pokemon in different Generations. \n",
    "\n",
    "B) Use a **one-way ANOVA** to test for significant differences between pokemon HP across Generations. \n",
    "\n",
    "Documentation for `stats.f_oneway()`:\\\n",
    "https://docs.scipy.org/doc/scipy/reference/generated/scipy.stats.f_oneway.html\n",
    "\n"
   ]
  },
  {
   "cell_type": "code",
   "execution_count": null,
   "id": "4019b868-b07a-4944-aa9b-a04be1fd3a50",
   "metadata": {},
   "outputs": [],
   "source": [
    "## YOUR CODE HERE ##"
   ]
  },
  {
   "cell_type": "markdown",
   "id": "90ceac51-05a9-4bcd-a651-9441572a9978",
   "metadata": {},
   "source": [
    "---"
   ]
  },
  {
   "cell_type": "markdown",
   "id": "e267454f-53c8-4aca-8038-449d2105bff7",
   "metadata": {},
   "source": [
    "## 3.8 Exporting plots\n",
    "\n",
    "You can add `plt.savefig('FIG_NAME.EXTENSION')` at the end of any cell that makes a plot to export it. \\\n",
    "Note that `plt.savefig()` and `plt.show()` are mutually exclusive, it won't work if you have both.\n",
    "\n",
    "Extensions can be png, jpeg, pdf, svg, and many others. You can also specify resolution with `dpi=`."
   ]
  },
  {
   "cell_type": "markdown",
   "id": "8638d606-1b1c-483b-a042-8eb92823c898",
   "metadata": {},
   "source": [
    "---"
   ]
  },
  {
   "cell_type": "markdown",
   "id": "0daacb6b-20e4-4957-9bd1-c6d7a3a1c825",
   "metadata": {},
   "source": [
    "## 3.9 Extras\n",
    "\n",
    "Again, **nothing required** here. Just showing some additional plotting/stats options. "
   ]
  },
  {
   "cell_type": "markdown",
   "id": "0deb93cd-77b8-4cc6-b760-0874714f69bf",
   "metadata": {},
   "source": [
    "### Subplots\n",
    "\n",
    "Earlier we used `plt.subplots()` to create a figure (`fig`) and plot 2 sets of data on the same axis (`ax`). Subplots are also great for creating multi-paneled figures: "
   ]
  },
  {
   "cell_type": "code",
   "execution_count": null,
   "id": "f6b7911d-6f11-46de-a0ba-fca7a413c7fd",
   "metadata": {},
   "outputs": [],
   "source": [
    "fig, axes = plt.subplots(2, 2, figsize=(7, 7), constrained_layout=True)\n",
    "\n",
    "g_df = df2.loc[(df2['Type 1']=='Grass')]\n",
    "f_df = df2.loc[(df2['Type 1']=='Fire')]\n",
    "w_df = df2.loc[(df2['Type 1']=='Water')]\n",
    "n_df = df2.loc[(df2['Type 1']=='Normal')]\n",
    "\n",
    "g_df.plot(kind='scatter', x='Attack', y='HP', \n",
    "          c='tab:green', title='grass', ax=axes[0,0])\n",
    "f_df.plot(kind='scatter', x='Attack', y='HP', \n",
    "          c='tab:orange', title='fire', ax=axes[0,1])\n",
    "w_df.plot(kind='scatter', x='Attack', y='HP', \n",
    "          c='tab:blue', title='water', ax=axes[1,0])\n",
    "n_df.plot(kind='scatter', x='Attack', y='HP', \n",
    "          c='tab:gray', title='normal', ax=axes[1,1])\n",
    "\n",
    "plt.show()"
   ]
  },
  {
   "cell_type": "markdown",
   "id": "8f467c76-404a-47f0-a8b4-cda6cb7faf0b",
   "metadata": {},
   "source": [
    "The first two `.subplots()` parameters are the number of rows and columns in the figure (2x2 grid, 4 axes total), and the individual axes are specified with `axes[x,y]` corresponding to their location in the figure.\\\n",
    "Once you start customizing plot labels, colors, etc in large figures, it can get a bit tedious... using `for` loops is highly encouraged. "
   ]
  },
  {
   "cell_type": "markdown",
   "id": "7f51bf23-7eea-4667-aa1a-1216cf7d01bb",
   "metadata": {},
   "source": [
    "### Correlation matrices\n",
    "\n",
    "If you want to check pairwise correlations between multiple variables, `df.corr` generates a matrix:"
   ]
  },
  {
   "cell_type": "code",
   "execution_count": null,
   "id": "13835ab9-b503-44e3-8f1a-3af9ab4a6fed",
   "metadata": {},
   "outputs": [],
   "source": [
    "df5 = df2.select_dtypes(include='int64').drop('Generation',axis=1)\n",
    "\n",
    "corr_df = df5.corr(method='pearson')\n",
    "corr_df.style.background_gradient(cmap='Blues')"
   ]
  },
  {
   "cell_type": "markdown",
   "id": "c40bdf1b-7758-41e4-8bef-cc2b79eb49fc",
   "metadata": {},
   "source": [
    "Using `method='spearman'` is recommended for non-parametric data. \\\n",
    "You can write a custom function to extract the p-values as a separate matrix. But whenever you are making multiple comparisons, correction factors need to be applied before interpreting significance."
   ]
  },
  {
   "cell_type": "markdown",
   "id": "da0a38af-24d1-4a3c-93c5-3cafa2459a3c",
   "metadata": {
    "collapsed": true,
    "jupyter": {
     "outputs_hidden": true
    }
   },
   "source": [
    "### Multivariate statistics\n",
    "\n",
    "To compare the data shown in the barplots, we can use distance matrix based statistics. These are available in the **scikit-bio** library:"
   ]
  },
  {
   "cell_type": "code",
   "execution_count": null,
   "id": "e0516e80-4774-4f42-b8db-b299e689bb6d",
   "metadata": {
    "scrolled": true,
    "tags": []
   },
   "outputs": [],
   "source": [
    "!pip install scikit-bio "
   ]
  },
  {
   "cell_type": "markdown",
   "id": "a3f128b0-470c-4db1-b694-9b1034549f51",
   "metadata": {},
   "source": [
    "It can take up to several minutes to install, but once done, you won't need to run it again in subsequent notebooks.\\\n",
    "Windows users may experience errors - if so, try installing/updating MS visual studio C++ https://visualstudio.microsoft.com/visual-cpp-build-tools/ and making sure your python version is up to date."
   ]
  },
  {
   "cell_type": "code",
   "execution_count": null,
   "id": "b38d54cc-7f7b-43e1-b1fc-2c28f1d83613",
   "metadata": {},
   "outputs": [],
   "source": [
    "from skbio import DistanceMatrix\n",
    "from skbio import stats\n",
    "from scipy.spatial.distance import pdist, squareform"
   ]
  },
  {
   "cell_type": "code",
   "execution_count": null,
   "id": "8ad2df63-cc66-489d-82da-b6761bddf637",
   "metadata": {},
   "outputs": [],
   "source": [
    "dm = squareform(pdist(df)) #compute a nxn matrix of pairwise distances\n",
    "dm = DistanceMatrix(dm, ids=df.index) #store distance matrix object with generation as labels\n",
    "\n",
    "dm"
   ]
  },
  {
   "cell_type": "markdown",
   "id": "2c41cbdd-38a2-4843-9a31-c2489a2b3a74",
   "metadata": {},
   "source": [
    "The plot shows that Generations 1 and 6 are the least similar to each other, while 4 and 5 are the most similar.\n",
    "\n",
    "From here, a variety of statistical analyses can be performed within scikitbio, such as anosim, permanova, compositional analysis, etc. \n",
    "\n",
    "https://scikit.bio/docs/latest/generated/skbio.stats.distance.html"
   ]
  }
 ],
 "metadata": {
  "kernelspec": {
   "display_name": "Python 3 (ipykernel)",
   "language": "python",
   "name": "python3"
  },
  "language_info": {
   "codemirror_mode": {
    "name": "ipython",
    "version": 3
   },
   "file_extension": ".py",
   "mimetype": "text/x-python",
   "name": "python",
   "nbconvert_exporter": "python",
   "pygments_lexer": "ipython3",
   "version": "3.12.2"
  }
 },
 "nbformat": 4,
 "nbformat_minor": 5
}
