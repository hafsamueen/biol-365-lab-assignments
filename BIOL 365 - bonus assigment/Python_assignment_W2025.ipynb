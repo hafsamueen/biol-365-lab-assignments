{
  "cells": [
    {
      "cell_type": "markdown",
      "id": "6aab96f5-496d-4629-8061-8af00fec4079",
      "metadata": {
        "id": "6aab96f5-496d-4629-8061-8af00fec4079"
      },
      "source": [
        "# Bonus assignment:"
      ]
    },
    {
      "cell_type": "markdown",
      "id": "b52817ba-53b9-4980-b921-2f3d6229c257",
      "metadata": {
        "id": "b52817ba-53b9-4980-b921-2f3d6229c257"
      },
      "source": [
        "**BIOL365 Winter 2025** \\\n",
        "**Due date: March 31, 2025 (11:59 PM)**\n",
        "\n",
        "**Total marks: /30**\n",
        "\n",
        "This notebook contains all questions for the BIOL365 bonus assignment.\n",
        "\n",
        "Answers should be typed in the indicated code and markdown blocks. You can create additional code blocks if needed. There is no need to save outputs separately, unless otherwise specified.\n",
        "\n",
        "**IMPORTANT NOTES**:\n",
        "\n",
        "- **Do not ask the TAs** for help on this assignment, they are not responsible for anything in the bonus module.\n",
        "\n",
        "- **Attempt to troubleshoot any issues yourself first**. Most error messages can be solved by a quick google search. Stackoverflow is your friend.\n",
        "\n",
        "- If that doesn't work, **check the LEARN discussion forum**. I will be posting solutions to common issues there.\n",
        "\n",
        "- If you're still stuck, email Molly or go to office hours. It helps if you can provide screenshots and describe what you've already tried.\n",
        "\n",
        "- Marks are given for **final answers** only. No part marks awarded for code that fails to run!\n",
        "\n",
        "- In the same vein, I am not specifically marking for adherence to good coding practices (e.g., formatting style). However, **I will be reviewing the code for originality**. Evidence of plagiarism will lead to a 0 on the assignment. Properly documenting your code with comments, among other things, can help you avoid this.\n",
        "\n",
        "\n",
        "Good luck!\n",
        "\n",
        "---"
      ]
    },
    {
      "cell_type": "code",
      "source": [
        "## installing libraries\n",
        "!pip install pandas\n",
        "!pip install matplotlib\n",
        "!pip install Biopython\n",
        "!pip install scipy\n",
        "!pip install scikit-bio"
      ],
      "metadata": {
        "id": "p-7J8WAxSJnu",
        "outputId": "6ee4145a-f487-4b8c-a216-5bd89f59425a",
        "colab": {
          "base_uri": "https://localhost:8080/"
        }
      },
      "id": "p-7J8WAxSJnu",
      "execution_count": null,
      "outputs": [
        {
          "output_type": "stream",
          "name": "stdout",
          "text": [
            "Requirement already satisfied: pandas in /usr/local/lib/python3.11/dist-packages (2.2.2)\n",
            "Requirement already satisfied: numpy>=1.23.2 in /usr/local/lib/python3.11/dist-packages (from pandas) (2.0.2)\n",
            "Requirement already satisfied: python-dateutil>=2.8.2 in /usr/local/lib/python3.11/dist-packages (from pandas) (2.8.2)\n",
            "Requirement already satisfied: pytz>=2020.1 in /usr/local/lib/python3.11/dist-packages (from pandas) (2025.1)\n",
            "Requirement already satisfied: tzdata>=2022.7 in /usr/local/lib/python3.11/dist-packages (from pandas) (2025.1)\n",
            "Requirement already satisfied: six>=1.5 in /usr/local/lib/python3.11/dist-packages (from python-dateutil>=2.8.2->pandas) (1.17.0)\n",
            "Requirement already satisfied: matplotlib in /usr/local/lib/python3.11/dist-packages (3.10.0)\n",
            "Requirement already satisfied: contourpy>=1.0.1 in /usr/local/lib/python3.11/dist-packages (from matplotlib) (1.3.1)\n",
            "Requirement already satisfied: cycler>=0.10 in /usr/local/lib/python3.11/dist-packages (from matplotlib) (0.12.1)\n",
            "Requirement already satisfied: fonttools>=4.22.0 in /usr/local/lib/python3.11/dist-packages (from matplotlib) (4.56.0)\n",
            "Requirement already satisfied: kiwisolver>=1.3.1 in /usr/local/lib/python3.11/dist-packages (from matplotlib) (1.4.8)\n",
            "Requirement already satisfied: numpy>=1.23 in /usr/local/lib/python3.11/dist-packages (from matplotlib) (2.0.2)\n",
            "Requirement already satisfied: packaging>=20.0 in /usr/local/lib/python3.11/dist-packages (from matplotlib) (24.2)\n",
            "Requirement already satisfied: pillow>=8 in /usr/local/lib/python3.11/dist-packages (from matplotlib) (11.1.0)\n",
            "Requirement already satisfied: pyparsing>=2.3.1 in /usr/local/lib/python3.11/dist-packages (from matplotlib) (3.2.1)\n",
            "Requirement already satisfied: python-dateutil>=2.7 in /usr/local/lib/python3.11/dist-packages (from matplotlib) (2.8.2)\n",
            "Requirement already satisfied: six>=1.5 in /usr/local/lib/python3.11/dist-packages (from python-dateutil>=2.7->matplotlib) (1.17.0)\n",
            "Collecting Biopython\n",
            "  Downloading biopython-1.85-cp311-cp311-manylinux_2_17_x86_64.manylinux2014_x86_64.whl.metadata (13 kB)\n",
            "Requirement already satisfied: numpy in /usr/local/lib/python3.11/dist-packages (from Biopython) (2.0.2)\n",
            "Downloading biopython-1.85-cp311-cp311-manylinux_2_17_x86_64.manylinux2014_x86_64.whl (3.3 MB)\n",
            "\u001b[2K   \u001b[90m━━━━━━━━━━━━━━━━━━━━━━━━━━━━━━━━━━━━━━━━\u001b[0m \u001b[32m3.3/3.3 MB\u001b[0m \u001b[31m21.9 MB/s\u001b[0m eta \u001b[36m0:00:00\u001b[0m\n",
            "\u001b[?25hInstalling collected packages: Biopython\n",
            "Successfully installed Biopython-1.85\n",
            "Requirement already satisfied: scipy in /usr/local/lib/python3.11/dist-packages (1.14.1)\n",
            "Requirement already satisfied: numpy<2.3,>=1.23.5 in /usr/local/lib/python3.11/dist-packages (from scipy) (2.0.2)\n",
            "Collecting scikit-bio\n",
            "  Downloading scikit-bio-0.6.3.tar.gz (5.4 MB)\n",
            "\u001b[2K     \u001b[90m━━━━━━━━━━━━━━━━━━━━━━━━━━━━━━━━━━━━━━━━\u001b[0m \u001b[32m5.4/5.4 MB\u001b[0m \u001b[31m29.6 MB/s\u001b[0m eta \u001b[36m0:00:00\u001b[0m\n",
            "\u001b[?25h  Installing build dependencies ... \u001b[?25l\u001b[?25hdone\n"
          ]
        }
      ]
    },
    {
      "cell_type": "markdown",
      "id": "15ef1649-4e1e-42c9-b424-296fb5428894",
      "metadata": {
        "id": "15ef1649-4e1e-42c9-b424-296fb5428894"
      },
      "source": [
        "## Part 1: Filtering NCBI genome datasets\n",
        "\n",
        "**/7 marks**"
      ]
    },
    {
      "cell_type": "markdown",
      "id": "f4ee0145-1e82-4700-9417-e0325e527e65",
      "metadata": {
        "id": "f4ee0145-1e82-4700-9417-e0325e527e65"
      },
      "source": [
        "The NCBI FTP site (https://ftp.ncbi.nlm.nih.gov/) hosts download links for all of their databases, in a hierarchical organization.\n",
        "\n",
        "Follow the link for `genome/`, then `genbank/`. Download the `assembly_summary_genbank.txt` file (right click --> 'save as') into your working directory. \\\n",
        "Do the same for `genome/refseq/` to download the `assembly_summary_refseq.txt` file.  \n",
        "\n"
      ]
    },
    {
      "cell_type": "markdown",
      "id": "0df6ff45-58c3-4dec-8078-27a7adefeab6",
      "metadata": {
        "id": "0df6ff45-58c3-4dec-8078-27a7adefeab6"
      },
      "source": [
        "### Task 1:\n",
        "\n",
        "**A) Import both files as separate dataframes. (1 mark)** \\\n",
        "Hint: the `skiprows=` parameter can be used to ignore the header (https://pandas.pydata.org/docs/reference/api/pandas.read_table.html). \\\n",
        "You may get a warning about mixed data types, in which case you can follow the recommendation for specifying `low_memory=False`."
      ]
    },
    {
      "cell_type": "code",
      "execution_count": null,
      "id": "f97fbf15-2eb4-4b41-926d-87c0612a4e6b",
      "metadata": {
        "id": "f97fbf15-2eb4-4b41-926d-87c0612a4e6b"
      },
      "outputs": [],
      "source": [
        "### YOUR CODE HERE ###"
      ]
    },
    {
      "cell_type": "markdown",
      "id": "c593e171-4f41-4336-ba4c-b7475dbe9e1c",
      "metadata": {
        "id": "c593e171-4f41-4336-ba4c-b7475dbe9e1c"
      },
      "source": [
        "\\\n",
        "Take a look at both dataframes. They should both show a list of accession numbers, each representing an assembled genome in the database. The column headers are identical, and contain info about the source of the assembly, the species (taxid and species_taxid are both unique to the organism, listed under organism_name), and various stats such as the genome size and gene counts.\n",
        "\n",
        "There are too many columns to display, so for the sake of convenience, let's filter out some of the irrelevant ones.\n",
        "\n",
        "**B) Filter the dataframes to only contain the following columns: (1 mark)**\n",
        "\n",
        "- `'#assembly_accession'`\n",
        "- `'refseq_category'`\n",
        "- `'organism_name'`\n",
        "- `'assembly_level'`\n",
        "- `'genome_rep'`\n",
        "- `'group'`\n",
        "- `'genome_size'`\n",
        "- `'genome_size_ungapped'`\n",
        "- `'gc_percent'`"
      ]
    },
    {
      "cell_type": "code",
      "execution_count": null,
      "id": "e7d904e1-196f-464d-8719-e4cecc57f2d0",
      "metadata": {
        "id": "e7d904e1-196f-464d-8719-e4cecc57f2d0"
      },
      "outputs": [],
      "source": [
        "### YOUR CODE HERE ###"
      ]
    },
    {
      "cell_type": "markdown",
      "id": "3b39fa9e-34a6-4e68-a3b9-dcbfb32df69a",
      "metadata": {
        "id": "3b39fa9e-34a6-4e68-a3b9-dcbfb32df69a"
      },
      "source": [
        "---"
      ]
    },
    {
      "cell_type": "markdown",
      "id": "0e645ad4-8e0e-4ec2-9330-ebca30f14390",
      "metadata": {
        "id": "0e645ad4-8e0e-4ec2-9330-ebca30f14390"
      },
      "source": [
        "\n",
        "### Task 2:\n",
        "\n",
        "Recall that refseq is a curated, non-redundant version of genbank - one sequence per gene per organism. However, for the genome assembly dataset, the level of redundancy is debatable... for example, using `['organism_name'].value_counts()` on the refseq dataframe shows 37,570 genomes for E. coli. This could be due to different strains, assembly methods, etc.\n",
        "\n",
        "Regardless, I'm interested in filtering a list of *high quality genomes* with *one unique entry* per species , with the following criteria:\n",
        "\n",
        "1. Only keep entries listed as `'Full'` under `['genome_rep']` (excludes partial genomes).\n",
        "2. Only keep entries listed as `'bacteria'`, `'archaea'`, `'fungi'`, `'invertebrate'`, `'plant'`, `'vertebrate_other'`, `'vertebrate_mammalian'`, and `'protozoa'` under `['group']` (excludes viral, metagenome, and other genomes).\n",
        "3. Keep only one value per species (`['organism_name']`), prioritizing entries listed as a `reference genome` under `['refseq_category']`."
      ]
    },
    {
      "cell_type": "markdown",
      "id": "4a26d349-b7d4-4df5-b757-7c7555023dd0",
      "metadata": {
        "id": "4a26d349-b7d4-4df5-b757-7c7555023dd0"
      },
      "source": [
        "\n",
        "**A)** **Apply the above filtering criteria to both the genbank and refseq datasets. (2 marks)**\n",
        "\n",
        "Hint: the `df.drop_duplicates()` function is useful here: https://pandas.pydata.org/docs/reference/api/pandas.DataFrame.drop_duplicates.html \\\n",
        "Note the `subset=` parameter."
      ]
    },
    {
      "cell_type": "code",
      "execution_count": null,
      "id": "7f003852-c14c-4c33-8afb-d5bad07cddf4",
      "metadata": {
        "scrolled": true,
        "id": "7f003852-c14c-4c33-8afb-d5bad07cddf4"
      },
      "outputs": [],
      "source": [
        "### YOUR CODE HERE ###"
      ]
    },
    {
      "cell_type": "markdown",
      "id": "fcba3e2e-576b-4ed1-9f37-2848a4a2b8e6",
      "metadata": {
        "id": "fcba3e2e-576b-4ed1-9f37-2848a4a2b8e6"
      },
      "source": [
        "**B) How many genomes are in the filtered datasets? (1 mark)**"
      ]
    },
    {
      "cell_type": "markdown",
      "id": "b2a9c666-ec59-47f3-8895-10ed1cbebe2d",
      "metadata": {
        "id": "b2a9c666-ec59-47f3-8895-10ed1cbebe2d"
      },
      "source": [
        "RefSeq: ANSWER HERE\n",
        "\n",
        "GenBank: ANSWER HERE"
      ]
    },
    {
      "cell_type": "markdown",
      "id": "c43a36cf-4611-4d6c-b634-28a1c6185184",
      "metadata": {
        "id": "c43a36cf-4611-4d6c-b634-28a1c6185184"
      },
      "source": [
        "\n",
        "\\\n",
        "Next, I want to combine the datasets by adding any genbank genomes that do *not* have an equivalent refseq entry to the refseq dataframe. The accession numbers are similar between refseq and genbank - the only difference being that refseq uses GCF and genbank uses GCA. The 9-digit numerical values in both accessions (excluding the ones after the period, which refer to version number) are shared between entries.\n",
        "\n",
        "For example, GCF_000001405.40 and GCA_000001405.29 both map to the same reference genome (*Homo sapiens* assembly GRCh38.p14: https://www.ncbi.nlm.nih.gov/datasets/genome/GCF_000001405.40/).\n",
        "\n",
        "\n",
        "\\\n",
        "**C) Create a single dataframe from the refseq and genbank data that contains one unique entry per genome (i.e., remove duplicate GCF/GCA entries). Prioritize refseq entries over genbank entries. Display the dataframe. (2 marks)**\n",
        "\n",
        "Hint: The `pd.concat([df1,df2])` function concatenates dataframes by rows: https://pandas.pydata.org/docs/reference/api/pandas.concat.html."
      ]
    },
    {
      "cell_type": "code",
      "execution_count": null,
      "id": "d4415e99-4f58-4082-b5ce-46d71b56f8ba",
      "metadata": {
        "id": "d4415e99-4f58-4082-b5ce-46d71b56f8ba"
      },
      "outputs": [],
      "source": [
        "### YOUR CODE HERE ###"
      ]
    },
    {
      "cell_type": "markdown",
      "id": "7c218b26-953c-428b-8830-9be7e8390525",
      "metadata": {
        "id": "7c218b26-953c-428b-8830-9be7e8390525"
      },
      "source": [
        "---"
      ]
    },
    {
      "cell_type": "markdown",
      "id": "43381145-a77f-40d2-9e61-8d4cc0858d63",
      "metadata": {
        "id": "43381145-a77f-40d2-9e61-8d4cc0858d63"
      },
      "source": [
        "## Part 2: Genome statistics\n",
        "\n",
        "**/16 marks**"
      ]
    },
    {
      "cell_type": "markdown",
      "id": "eb73345b-d33d-4db3-b01e-6df9f385d642",
      "metadata": {
        "id": "eb73345b-d33d-4db3-b01e-6df9f385d642"
      },
      "source": [
        "Let's investigate some relationships between qualitative and quantitative variables in our filtered dataframe. \\\n",
        "Note: plot formatting is not required unless explicitly stated."
      ]
    },
    {
      "cell_type": "markdown",
      "id": "9759530b-ebca-421d-9684-3b742ca352a7",
      "metadata": {
        "id": "9759530b-ebca-421d-9684-3b742ca352a7"
      },
      "source": [
        "### Task 3:\n",
        "\n",
        "The filtered genomes should all belong to domains archaea, bacteria, and eukarya. Currently, eukaryotes are not explicitly listed in the `['group']` column.\n"
      ]
    },
    {
      "cell_type": "markdown",
      "id": "1db0b34b-3f3d-4cc0-8abc-4f70efab71b6",
      "metadata": {
        "id": "1db0b34b-3f3d-4cc0-8abc-4f70efab71b6"
      },
      "source": [
        "**A) Create box plots comparing the % GC content of bacterial, archaeal, and eukaryotic genomes (3 categories total). (3 marks)**"
      ]
    },
    {
      "cell_type": "code",
      "execution_count": null,
      "id": "7caf624c-039a-4b6c-a600-22a4445f6f6a",
      "metadata": {
        "id": "7caf624c-039a-4b6c-a600-22a4445f6f6a"
      },
      "outputs": [],
      "source": [
        "### YOUR CODE HERE ###"
      ]
    },
    {
      "cell_type": "markdown",
      "id": "93554715-88a2-47c4-821d-d34702be652f",
      "metadata": {
        "id": "93554715-88a2-47c4-821d-d34702be652f"
      },
      "source": [
        "**B) Which group has the highest average GC content? (1 mark)**"
      ]
    },
    {
      "cell_type": "markdown",
      "id": "f5f738cf-a4f7-451b-b651-f17661e5f8d4",
      "metadata": {
        "id": "f5f738cf-a4f7-451b-b651-f17661e5f8d4"
      },
      "source": [
        "ANSWER HERE"
      ]
    },
    {
      "cell_type": "markdown",
      "id": "529a12aa-80ae-4c26-97a6-95d0a3a0ac90",
      "metadata": {
        "id": "529a12aa-80ae-4c26-97a6-95d0a3a0ac90"
      },
      "source": [
        "**C) Perform a one-way ANOVA to test for significant differences in GC content across domains. (1 mark)**"
      ]
    },
    {
      "cell_type": "code",
      "execution_count": null,
      "id": "fbd7e637-78f5-4f29-801a-557ae7a296fb",
      "metadata": {
        "id": "fbd7e637-78f5-4f29-801a-557ae7a296fb"
      },
      "outputs": [],
      "source": [
        "### YOUR CODE HERE ###"
      ]
    },
    {
      "cell_type": "markdown",
      "id": "2921562c-d340-450d-b3ba-7ed5f0d06730",
      "metadata": {
        "id": "2921562c-d340-450d-b3ba-7ed5f0d06730"
      },
      "source": [
        "**E) Are the differences significant? (1 mark)**"
      ]
    },
    {
      "cell_type": "markdown",
      "id": "a5e33afe-119b-4921-b8b3-a4984b3087a7",
      "metadata": {
        "id": "a5e33afe-119b-4921-b8b3-a4984b3087a7"
      },
      "source": [
        "ANSWER HERE"
      ]
    },
    {
      "cell_type": "markdown",
      "id": "b1d17843-a147-4b7b-8aa8-e77d9fa190ce",
      "metadata": {
        "id": "b1d17843-a147-4b7b-8aa8-e77d9fa190ce"
      },
      "source": [
        "---"
      ]
    },
    {
      "cell_type": "markdown",
      "id": "09372075-9c3b-4cd9-a1c3-e4f3c86e42fb",
      "metadata": {
        "id": "09372075-9c3b-4cd9-a1c3-e4f3c86e42fb"
      },
      "source": [
        "### Task 4\n",
        "\n",
        "**A) Create a scatter plot with the** `['genome_size']` **and** `['genome_size_ungapped']` **columns as the x and y values, respectively. Include a line of best fit. (3 marks)**"
      ]
    },
    {
      "cell_type": "code",
      "execution_count": null,
      "id": "10d0ea99-3b73-46ba-84fe-7b47830beaaa",
      "metadata": {
        "id": "10d0ea99-3b73-46ba-84fe-7b47830beaaa"
      },
      "outputs": [],
      "source": [
        "### YOUR CODE HERE ###"
      ]
    },
    {
      "cell_type": "markdown",
      "id": "2fc6d810-7ec1-4a01-bb18-c2a752ff6541",
      "metadata": {
        "id": "2fc6d810-7ec1-4a01-bb18-c2a752ff6541"
      },
      "source": [
        "**B) What is the correlation coefficient (r) between genome size and ungapped genome size? (round to 3 decimals) (1 mark)**"
      ]
    },
    {
      "cell_type": "markdown",
      "id": "b4a02cf5-7ae2-40e1-be8e-cc25a34a2b26",
      "metadata": {
        "id": "b4a02cf5-7ae2-40e1-be8e-cc25a34a2b26"
      },
      "source": [
        "ANSWER HERE"
      ]
    },
    {
      "cell_type": "markdown",
      "id": "23ac5115-ef86-4df4-b5d0-a66512577672",
      "metadata": {
        "id": "23ac5115-ef86-4df4-b5d0-a66512577672"
      },
      "source": [
        "---"
      ]
    },
    {
      "cell_type": "markdown",
      "id": "1a79fdf5-7370-4f02-9309-ed4e84428c96",
      "metadata": {
        "id": "1a79fdf5-7370-4f02-9309-ed4e84428c96"
      },
      "source": [
        "### Task 5\n",
        "\n",
        "I want to compare the distribution of assembly levels (complete genome, chromosome, contig, etc) between types of genomes in the dataset.\n",
        "\n",
        "**A) Create a new dataframe that groups genomes by** `['group']` **, then by** `['assembly_level']` **, showing the genome counts. Then, pivot the dataframe to show the two categories as row and column headers respectively. Scale the values in each row as a percentage of the total row values. Display the dataframe. (3 marks)**"
      ]
    },
    {
      "cell_type": "code",
      "execution_count": null,
      "id": "62d2d7bb-ebd0-4d4a-90b4-f77dc567cc21",
      "metadata": {
        "id": "62d2d7bb-ebd0-4d4a-90b4-f77dc567cc21"
      },
      "outputs": [],
      "source": [
        "### YOUR CODE HERE ###"
      ]
    },
    {
      "cell_type": "markdown",
      "id": "481acff0-7ca9-4601-8c8d-a5616ff33b82",
      "metadata": {
        "id": "481acff0-7ca9-4601-8c8d-a5616ff33b82"
      },
      "source": [
        "**B) Create a stacked bar plot using the above dataframe (3 marks). The plot must have the following:**\n",
        "- A title\n",
        "- X and Y axis labels\n",
        "- The legend outside of the plot area, with the labels matching the order of how they are displayed on the bars"
      ]
    },
    {
      "cell_type": "code",
      "execution_count": null,
      "id": "b186320e-e13f-43b6-a9bc-e4353c91248b",
      "metadata": {
        "id": "b186320e-e13f-43b6-a9bc-e4353c91248b"
      },
      "outputs": [],
      "source": [
        "### YOUR CODE HERE ###"
      ]
    },
    {
      "cell_type": "markdown",
      "id": "d301df8d-7395-42a8-bd34-cccbb74619a2",
      "metadata": {
        "id": "d301df8d-7395-42a8-bd34-cccbb74619a2"
      },
      "source": [
        "---"
      ]
    },
    {
      "cell_type": "markdown",
      "id": "63de68e5-41a1-4a12-a627-d6086bef06a1",
      "metadata": {
        "id": "63de68e5-41a1-4a12-a627-d6086bef06a1"
      },
      "source": [
        "## Part 3: Labelling phylogenomic trees\n",
        "\n",
        "**/7 marks**"
      ]
    },
    {
      "cell_type": "markdown",
      "id": "efbe6a5e-9b4d-4df2-8225-b15c39e8b593",
      "metadata": {
        "id": "efbe6a5e-9b4d-4df2-8225-b15c39e8b593"
      },
      "source": [
        "Python does have several libraries for parsing FASTA files, aligning sequences, creating/visualizing trees, etc. One major one is Biopython (https://biopython.org/docs/latest/index.html). However, for this assignment I have made the tree using other command line tools.\n",
        "\n",
        "A brief explanation of the steps I used, for your interest only:\n",
        "\n",
        "- Filtered the genome dataset to only refseq genomes under `vertebrate_mammalian` (from experience, rendering a 100k+ node tree will crash the online visualizer...)\n",
        "- Exported the accession numbers as a text file (`genome_accessions.txt`)\n",
        "- Ran the program `GToTree` (https://github.com/AstrobioMike/GToTree), with the following code:\n",
        "\n",
        "```bash\n",
        "GToTree -a genome_accessions.txt -H Universal -j 20 -o ToL -G 0 -B\n",
        "```\n",
        "\n",
        "GToTree is a convenient pipeline that combines several other command line bioinformatics software. It uses HMMs (`HMMER`) to find a set of shared marker genes within input genomes (which can be FASTA files uploaded by the user or NCBI accessions that it will download). Then, it aligns them (`MUSCLE`), concatenates the alignments, and finally uses `FastTree`/`IQ-Tree` to create a *phylogenomic* tree of the genomes. The command `-H Universal` in the run code specifies to use the universal 16 marker gene set (Hug et al. 2016), which is a set of ribosomal genes shared between all three domains (bacteria, archaea, eukaryotes). In theory, these could be used for any tree, though it may not be ideal for resolving evolutionary relationships for closely related clades...\n",
        "\n",
        "\n",
        "---"
      ]
    },
    {
      "cell_type": "markdown",
      "id": "e19dd208-ef49-4edb-9d29-26b2e117357e",
      "metadata": {
        "id": "e19dd208-ef49-4edb-9d29-26b2e117357e"
      },
      "source": [
        "### Task 6\n",
        "\n",
        "\n",
        "The output tree file (`mammal_tree.nwk`) is provided. To visualize it, go to the online Interactive Tree of Life tool (https://itol.embl.de/upload.cgi), select the tree file under Choose File, and click Upload.\n",
        "\n",
        "As you can see, it automatically renders a circular tree and labels it with the accession numbers. We would like to replace the labels with something more informative, such as the species name.\n",
        "\n",
        "Run the following code to generate a list of tree nodes (as a dataframe):"
      ]
    },
    {
      "cell_type": "code",
      "execution_count": null,
      "id": "d55c8fc4-d6cc-4dad-b801-01d8b654bc4c",
      "metadata": {
        "id": "d55c8fc4-d6cc-4dad-b801-01d8b654bc4c"
      },
      "outputs": [],
      "source": [
        "#you only need to do this once, you can comment this line out after\n",
        "!pip install Biopython\n",
        "\n",
        "from Bio import Phylo\n",
        "tree = Phylo.read('mammal_tree.nwk', \"newick\")\n",
        "\n",
        "#extracting nodes as a dataframe column\n",
        "tree_nodes = pd.DataFrame([node.name for node in tree.get_terminals()], columns=['#assembly_accession'])\n",
        "tree_nodes = tree_nodes.set_index('#assembly_accession') #setting column as index\n",
        "\n",
        "tree_nodes #take a look at the df"
      ]
    },
    {
      "cell_type": "markdown",
      "id": "06c5e9c2-6401-445a-a4a6-5b6708c27b02",
      "metadata": {
        "id": "06c5e9c2-6401-445a-a4a6-5b6708c27b02"
      },
      "source": [
        "**A) Create another column in the** `tree_nodes` **dataframe that maps the associated species name** (`['organism_name']`) **to the accession. Display the dataframe. (2 marks)** \\\n",
        "Hint: use `df.set_index()` to set a column as an index. The resulting dataframe should only have 1 column (not including the index)."
      ]
    },
    {
      "cell_type": "code",
      "execution_count": null,
      "id": "37d84d74-cc41-45c9-aafa-a0b7c41e39d5",
      "metadata": {
        "id": "37d84d74-cc41-45c9-aafa-a0b7c41e39d5"
      },
      "outputs": [],
      "source": [
        "### YOUR CODE HERE ###"
      ]
    },
    {
      "cell_type": "markdown",
      "id": "bb1dddbe-8012-42ae-89e9-7c8f457deaa8",
      "metadata": {
        "id": "bb1dddbe-8012-42ae-89e9-7c8f457deaa8"
      },
      "source": [
        "**B) Export the dataframe as a .csv file. Include the** `header=False` **parameter to ignore the column names.**"
      ]
    },
    {
      "cell_type": "code",
      "execution_count": null,
      "id": "939f111a-5a1c-42f6-802b-b875b5b196bf",
      "metadata": {
        "id": "939f111a-5a1c-42f6-802b-b875b5b196bf"
      },
      "outputs": [],
      "source": [
        "### YOUR CODE HERE ###"
      ]
    },
    {
      "cell_type": "markdown",
      "id": "d7f8bf65-e41e-41ec-8490-3acc3cc16611",
      "metadata": {
        "id": "d7f8bf65-e41e-41ec-8490-3acc3cc16611"
      },
      "source": [
        "Open the .csv file in a text editor, and append the following 3 lines before the data:\n",
        "\n",
        "LABELS\n",
        "\n",
        "SEPARATOR COMMA\n",
        "\n",
        "DATA\n",
        "\n",
        "Save the file, and click + drag it into the iToL viewer with your tree. The labels should now be updated with species names.\n",
        "\n",
        "---"
      ]
    },
    {
      "cell_type": "markdown",
      "id": "c8f92a3b-214f-42fa-b914-6051213a34c4",
      "metadata": {
        "id": "c8f92a3b-214f-42fa-b914-6051213a34c4"
      },
      "source": [
        "### Task 7\n",
        "\n",
        "In addition to text labels, color-coding the branches of our tree can help visualize phylogenetic relationships between groups.\n",
        "\n",
        "The `taxonomy_key.csv` file contains detailed lineage information about each genome. It was also retrieved from the NCBI FTP site under `/pub/taxonomy/`, but I have reformatted it to make it easier to work with.\n",
        "\n",
        "**A) Using this file, create and display a dataframe that maps each tree node (by accession) to a color hex code based on the value in the** `['Order']` **column: (2 marks)**\n",
        "\n",
        "Carnivora: Red (`'#ff0000'`) \\\n",
        "Artiodactyla: Blue (`'#0000ff'`) \\\n",
        "Rodentia: Green (`'#00ff00'`) \\\n",
        "Primates: Orange (`'#ff6600'`) \\\n",
        "Chiroptera: Purple (`'#800080'`) \\\n",
        "Monotremata: Yellow (`'#ffff00'`)\\\n",
        "Other branches can remain black (`'#ffffff'`).\n",
        "\n",
        "The resulting dataframe (or series) should only have 1 column (not including the index)."
      ]
    },
    {
      "cell_type": "code",
      "execution_count": null,
      "id": "3c41e481-fdcf-4c98-8723-f7bcaa0e853a",
      "metadata": {
        "id": "3c41e481-fdcf-4c98-8723-f7bcaa0e853a"
      },
      "outputs": [],
      "source": [
        "### YOUR CODE HERE ###"
      ]
    },
    {
      "cell_type": "markdown",
      "id": "9ae9af7f-9366-4f64-b6c6-f688a329676a",
      "metadata": {
        "id": "9ae9af7f-9366-4f64-b6c6-f688a329676a"
      },
      "source": [
        "**B) Export the file the same way as in Task 6.**"
      ]
    },
    {
      "cell_type": "code",
      "execution_count": null,
      "id": "2740962d-a483-4924-a2e4-3a23a5d59376",
      "metadata": {
        "id": "2740962d-a483-4924-a2e4-3a23a5d59376"
      },
      "outputs": [],
      "source": [
        "### YOUR CODE HERE ###"
      ]
    },
    {
      "cell_type": "markdown",
      "id": "8939bc59-fe09-4a6c-99bd-d3bd98bd47b1",
      "metadata": {
        "id": "8939bc59-fe09-4a6c-99bd-d3bd98bd47b1"
      },
      "source": [
        "Open the .csv file in a text editor, and append the following 5 lines before the data:\n",
        "\n",
        "DATASET_COLORSTRIP\n",
        "\n",
        "SEPARATOR COMMA\n",
        "\n",
        "DATASET_LABEL,Order\n",
        "\n",
        "COLOR_BRANCHES,1\n",
        "\n",
        "DATA\n",
        "\n",
        "\n",
        "Save the file, and click + drag it into the iToL viewer with your tree. The branches should now be color-coded by taxonomy."
      ]
    },
    {
      "cell_type": "markdown",
      "id": "ccab19e0-4e27-41b6-ad4c-969d7efc79e8",
      "metadata": {
        "id": "ccab19e0-4e27-41b6-ad4c-969d7efc79e8"
      },
      "source": [
        "**C) Based on what you see, are there any genomes that appear to be either taxonomically misclassified OR incorrectly placed on the tree? List their scientific names below: (1 mark)**"
      ]
    },
    {
      "cell_type": "markdown",
      "id": "9b65c054-5b3b-4713-b1e9-6f7ac4a79dd3",
      "metadata": {
        "id": "9b65c054-5b3b-4713-b1e9-6f7ac4a79dd3"
      },
      "source": [
        "ANSWER HERE"
      ]
    },
    {
      "cell_type": "markdown",
      "id": "6ff35396-7fcd-4e4c-8567-82c34b1ff17c",
      "metadata": {
        "id": "6ff35396-7fcd-4e4c-8567-82c34b1ff17c"
      },
      "source": [
        "---"
      ]
    },
    {
      "cell_type": "markdown",
      "id": "53a1ffd1-008f-421b-bc6a-d9771dfaf25e",
      "metadata": {
        "id": "53a1ffd1-008f-421b-bc6a-d9771dfaf25e"
      },
      "source": [
        "### Task 8\n",
        "\n",
        "Find the Monotremes, and re-root the tree on one of them by hovering over a branch and right clicking --> Tree structure --> Re-root the tree here. On the Control panel in the top right, navigate to the Basic tab and increase the Label Font Size and Branch Line Width to something readable. Then, go to the Export tab and export the Full Image as a PDF.\n",
        "\n",
        "**Submit the PDF tree file (2 marks) along with the assignment notebook to the dropbox for marking.**"
      ]
    },
    {
      "cell_type": "markdown",
      "id": "06b5ffb7-9635-440b-8ae5-0e4e6f2d04ce",
      "metadata": {
        "id": "06b5ffb7-9635-440b-8ae5-0e4e6f2d04ce"
      },
      "source": [
        "---"
      ]
    },
    {
      "cell_type": "markdown",
      "id": "fa18fa3c-9d6c-4b91-a653-c43b329dae96",
      "metadata": {
        "id": "fa18fa3c-9d6c-4b91-a653-c43b329dae96"
      },
      "source": [
        "**END OF ASSIGNMENT**"
      ]
    }
  ],
  "metadata": {
    "kernelspec": {
      "display_name": "Python 3 (ipykernel)",
      "language": "python",
      "name": "python3"
    },
    "language_info": {
      "codemirror_mode": {
        "name": "ipython",
        "version": 3
      },
      "file_extension": ".py",
      "mimetype": "text/x-python",
      "name": "python",
      "nbconvert_exporter": "python",
      "pygments_lexer": "ipython3",
      "version": "3.12.2"
    },
    "colab": {
      "provenance": []
    }
  },
  "nbformat": 4,
  "nbformat_minor": 5
}